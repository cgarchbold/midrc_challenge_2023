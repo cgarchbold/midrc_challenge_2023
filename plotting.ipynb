{
 "cells": [
  {
   "cell_type": "code",
   "execution_count": 1,
   "metadata": {},
   "outputs": [],
   "source": [
    "from midrc_dataset import midrc_challenge_dataset,midrc_challenge_dicom\n",
    "import plotting\n",
    "import numpy as np\n",
    "import matplotlib.pyplot as plt\n",
    "import seaborn as sns\n",
    "import os\n",
    "\n",
    "# Example usage of the dataset class\n",
    "root_dir = 'C:\\\\Users\\\\CGarc\\\\University of Kentucky\\\\Ahamed, Md. Atik - COVID severity\\\\data\\\\resized_224X224'\n",
    "\n",
    "annotations_file = 'MIDRC mRALE Mastermind Training Annotations_2079_20230428.csv'\n",
    "\n",
    "dicom_dir = 'C:\\\\Users\\\\CGarc\\\\Projects\\\\mRALE Mastermind\\\\organized'\n",
    "\n",
    "dataset = midrc_challenge_dicom(dicom_dir, annotations_file)\n"
   ]
  },
  {
   "cell_type": "code",
   "execution_count": 2,
   "metadata": {},
   "outputs": [],
   "source": [
    "for i,data in enumerate(dataset):\n",
    "    image, score = data\n",
    "\n",
    "    plt.figure(figsize=(10,10))\n",
    "    plt.imshow( image, cmap='gray')\n",
    "    plt.axis('off')\n",
    "    plt.tight_layout()\n",
    "\n",
    "    results_dir = os.path.join(\"plots\",\"high_res\")\n",
    "\n",
    "    if not os.path.isdir(results_dir):\n",
    "        os.makedirs(results_dir)\n",
    "\n",
    "    filename = os.path.join(\"plots\",\"high_res\",str(i)+\".png\")\n",
    "\n",
    "    plt.savefig(filename, bbox_inches='tight', pad_inches=0)\n",
    "    plt.close()"
   ]
  }
 ],
 "metadata": {
  "kernelspec": {
   "display_name": "base",
   "language": "python",
   "name": "python3"
  },
  "language_info": {
   "codemirror_mode": {
    "name": "ipython",
    "version": 3
   },
   "file_extension": ".py",
   "mimetype": "text/x-python",
   "name": "python",
   "nbconvert_exporter": "python",
   "pygments_lexer": "ipython3",
   "version": "3.11.3"
  },
  "orig_nbformat": 4
 },
 "nbformat": 4,
 "nbformat_minor": 2
}
