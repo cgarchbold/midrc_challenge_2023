{
 "cells": [
  {
   "cell_type": "code",
   "execution_count": 1,
   "metadata": {},
   "outputs": [
    {
     "ename": "AttributeError",
     "evalue": "'midrc_SIMCLR_dataset' object has no attribute 'data_dir'",
     "output_type": "error",
     "traceback": [
      "\u001b[1;31m---------------------------------------------------------------------------\u001b[0m",
      "\u001b[1;31mAttributeError\u001b[0m                            Traceback (most recent call last)",
      "Cell \u001b[1;32mIn[1], line 14\u001b[0m\n\u001b[0;32m     10\u001b[0m transform \u001b[39m=\u001b[39m transforms\u001b[39m.\u001b[39mCompose(transforms\u001b[39m.\u001b[39mPILToTensor())\n\u001b[0;32m     12\u001b[0m dataset \u001b[39m=\u001b[39m midrc_SIMCLR_dataset(root_dir, annotations_file, json_file, transform\u001b[39m=\u001b[39mtransform)\n\u001b[1;32m---> 14\u001b[0m img1,img2,score1, score2 \u001b[39m=\u001b[39m dataset[\u001b[39m0\u001b[39m]\n\u001b[0;32m     16\u001b[0m img1\n",
      "File \u001b[1;32mc:\\Users\\CGarc\\University of Kentucky\\Ahamed, Md. Atik - COVID severity\\code\\midrc_dataset.py:111\u001b[0m, in \u001b[0;36mmidrc_SIMCLR_dataset.__getitem__\u001b[1;34m(self, idx)\u001b[0m\n\u001b[0;32m    107\u001b[0m \u001b[39mdef\u001b[39;00m \u001b[39m__getitem__\u001b[39m(\u001b[39mself\u001b[39m, idx):\n\u001b[0;32m    108\u001b[0m     \u001b[39m# each item in the dictionary contains a list of dictionaries\u001b[39;00m\n\u001b[0;32m    109\u001b[0m     \u001b[39mdict\u001b[39m \u001b[39m=\u001b[39m \u001b[39mself\u001b[39m\u001b[39m.\u001b[39mlabel_info[idx]\n\u001b[1;32m--> 111\u001b[0m     img_fp \u001b[39m=\u001b[39m os\u001b[39m.\u001b[39mpath\u001b[39m.\u001b[39mjoin(\u001b[39mself\u001b[39m\u001b[39m.\u001b[39mdata_dir, \u001b[39mdict\u001b[39m[\u001b[39m'\u001b[39m\u001b[39mfull_image_name\u001b[39m\u001b[39m'\u001b[39m])\n\u001b[0;32m    112\u001b[0m     rand_select \u001b[39m=\u001b[39m random\u001b[39m.\u001b[39mchoice(\u001b[39mdict\u001b[39m[\u001b[39mself\u001b[39m\u001b[39m.\u001b[39mlist_key])\n\u001b[0;32m    113\u001b[0m     img2_fp \u001b[39m=\u001b[39m os\u001b[39m.\u001b[39mpath\u001b[39m.\u001b[39mjoin(\u001b[39mself\u001b[39m\u001b[39m.\u001b[39mdata_dir, rand_select)\n",
      "\u001b[1;31mAttributeError\u001b[0m: 'midrc_SIMCLR_dataset' object has no attribute 'data_dir'"
     ]
    }
   ],
   "source": [
    "from midrc_dataset import midrc_SIMCLR_dataset\n",
    "import torchvision.transforms as transforms\n",
    "\n",
    "root_dir = '../data/resized_224X224'\n",
    "\n",
    "json_file = '../data/label_info/refined_study_wise_images.json'\n",
    "\n",
    "annotations_file = 'MIDRC mRALE Mastermind Training Annotations_2079_20230428.csv'\n",
    "\n",
    "transform = transforms.Compose(transforms.PILToTensor())\n",
    "\n",
    "dataset = midrc_SIMCLR_dataset(root_dir, annotations_file, json_file, transform=transform)\n",
    "\n",
    "img1,img2,score1, score2 = dataset[0]\n",
    "\n",
    "img1"
   ]
  },
  {
   "attachments": {},
   "cell_type": "markdown",
   "metadata": {},
   "source": [
    "# Train"
   ]
  },
  {
   "attachments": {},
   "cell_type": "markdown",
   "metadata": {},
   "source": [
    "# Save model Weights"
   ]
  }
 ],
 "metadata": {
  "kernelspec": {
   "display_name": "mrale",
   "language": "python",
   "name": "python3"
  },
  "language_info": {
   "codemirror_mode": {
    "name": "ipython",
    "version": 3
   },
   "file_extension": ".py",
   "mimetype": "text/x-python",
   "name": "python",
   "nbconvert_exporter": "python",
   "pygments_lexer": "ipython3",
   "version": "3.11.3"
  },
  "orig_nbformat": 4
 },
 "nbformat": 4,
 "nbformat_minor": 2
}
